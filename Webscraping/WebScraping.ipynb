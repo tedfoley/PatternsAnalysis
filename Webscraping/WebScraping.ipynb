{
 "cells": [
  {
   "cell_type": "code",
   "execution_count": null,
   "metadata": {},
   "outputs": [],
   "source": []
  },
  {
   "cell_type": "code",
   "execution_count": null,
   "metadata": {},
   "outputs": [],
   "source": [
    "from collections import defaultdict\n",
    "from urllib.parse import quote\n",
    "from selenium import webdriver\n",
    "from selenium.webdriver.firefox.options import Options\n",
    "from parsel import Selector\n",
    "from selenium.webdriver.common.keys import Keys\n",
    "from selenium.webdriver.common.action_chains import ActionChains\n",
    "from selenium.webdriver.common.by import By\n",
    "from selenium.webdriver.support.ui import WebDriverWait\n",
    "from selenium.webdriver.support import expected_conditions as EC\n",
    "from selenium.webdriver.common.proxy import Proxy, ProxyType\n",
    "from selenium.common.exceptions import NoSuchElementException\n",
    "from ipynb.fs.full.SurveyUpload import uploadSurvey"
   ]
  },
  {
   "cell_type": "code",
   "execution_count": null,
   "metadata": {},
   "outputs": [],
   "source": [
    "df = uploadSurvey()"
   ]
  },
  {
   "cell_type": "markdown",
   "metadata": {},
   "source": [
    "Google search webscraping:"
   ]
  },
  {
   "cell_type": "code",
   "execution_count": null,
   "metadata": {},
   "outputs": [
    {
     "name": "stdout",
     "output_type": "stream",
     "text": [
      "['Finder' 'Preview' 'Notion' 'Slack' 'Patterns' 'loginwindow' 'Miro'\n",
      " 'Calendar' 'Beams' 'CoreServicesUIAgent' 'Notes' 'System Preferences'\n",
      " 'Safari' 'TextEdit' 'Flow' 'Maps' 'ScreenSaverEngine'\n",
      " 'Captive Network Assistant' 'UserNotificationCenter' 'Rize' 'Dictionary'\n",
      " 'Archive Utility' 'Loom' 'Google Chrome' 'System Information' 'zoom.us'\n",
      " 'Superpowered' 'Brave Browser' 'System Settings' 'Google Meet'\n",
      " 'App Store' 'Code' 'Terminal' 'Calculator' 'Installer' 'SecurityAgent'\n",
      " 'Avira Security Installer' 'Avira Security'\n",
      " 'Install Command Line Developer Tools' 'Weather' 'Spotify Installer'\n",
      " 'Spotify' 'ContinuityCaptureOnboardingUI' 'universalAccessAuthWarn'\n",
      " 'FaceTime' 'AnyDesk' 'Microsoft Excel' 'Music' 'Messages' 'Photos'\n",
      " 'Screen Saver' 'Microsoft PowerPoint' 'Add Printer' 'PrinterProxy'\n",
      " 'Disk Utility' 'Keyboard Setup Assistant' 'Mail' 'Linear' 'Around'\n",
      " 'Stickies' 'Acrobat Reader' 'Android Studio' 'DeepL' 'Zoiper5' 'Freeform'\n",
      " 'ZoomAutoUpdater' 'Acrobat' 'Adobe Illustrator 2023' 'Microsoft Teams'\n",
      " 'Figma' 'MobileDeviceUpdater' 'Google Drive' 'Musik' 'LastPass' 'Notizen'\n",
      " 'Notizzettel' 'ProtoPie' 'Adobe Photoshop 2023' 'System\\xadeinstellungen'\n",
      " 'Archivierungsprogramm' 'Pages' 'Reminders' 'LinkedNotesUIService'\n",
      " 'Emoji & Symbols' 'OneDrive' 'Microsoft Word' 'Things' 'Nachrichten'\n",
      " 'InDesign' 'Fotos' 'Arc' 'Systemeinstellungen' 'coreautha' 'Podcasts'\n",
      " 'Erinnerungen' 'Sublime Text' 'WhatsApp' 'Karten' 'AdGuard for Safari'\n",
      " 'Vorschau' 'iTerm2' 'Autoupdate' 'InstaView DEMO' 'Telegram' 'AltTab'\n",
      " 'Kalender' 'InstaView' 'Audacity' 'Firefox' 'Lexikon'\n",
      " 'Tastatur-Assistent' 'Festplatten\\xaddienstprogramm' 'Schriftsammlung'\n",
      " 'monday.com' 'Spark' 'Keychain Access' 'Books' '1Password' 'Transcode'\n",
      " 'Dock' 'StoreUIService' 'QuickTime Player' 'TaskTab' 'Contacts'\n",
      " 'Diagnostics Reporter' 'Postman' 'HP OfficeJet Pro 8720 3' 'Session'\n",
      " 'storeuid' 'SigmaOS' 'Cron' 'HP OfficeJet Pro 8720' 'Numbers'\n",
      " 'GitHub Desktop' 'Photo Booth' 'TablePlus' 'Raycast' 'Figma Beta'\n",
      " '\\u200eWhatsApp' 'Grammarly Editor' 'Lunar' 'Docker' 'Docker Desktop'\n",
      " 'Discord' 'Grain' 'ColorSlurp' 'Wi-Fi' 'WhatFont' 'CleanShot X'\n",
      " 'Activity Monitor' 'BuildBetter' 'AirPlayUIAgent' 'Reeder' 'Timery'\n",
      " 'Centered' 'Day One' 'Fantastical' 'MD Clock' 'Sunsama' ''\n",
      " '6Z7QW53WB6.com.dejal.timeout-setapp.break' 'Dark Noise'\n",
      " 'Ten Thumbs Typing Tutor' 'Forecast Bar' 'News' 'Superhuman' 'Bumpr'\n",
      " 'Ulysses' 'HazelHelper' 'Chronicle' 'DuckDuckGo' 'Copied' 'Morgen'\n",
      " 'Evernote' 'PDFpen' 'FilePane' 'Finder Windows' 'Soulver 3' 'Mem' 'Skype'\n",
      " 'Numi' 'GrandPerspective' 'Folder Tidy' 'MindNode' 'Toggl Track'\n",
      " 'ForkLift' 'Bartender 4' 'Zight' 'Parallels Toolbox' 'Clipbox' 'Pasty'\n",
      " 'iA Writer' 'Updater' 'Yoink' 'Cleaner One Pro' 'Brother iPrint&Scan'\n",
      " 'Vitamin-R 4' 'Hindenburg PRO 2' 'BetterTouchTool' 'TextExpander Helper'\n",
      " 'Scrintal' 'ToothFairy' 'Boom 3D' 'Problem Reporter' 'TextExpander'\n",
      " 'Mimestream' 'GoodLinks' 'bzbmenu' 'CleanMyMac X' 'Eagle' 'Descript'\n",
      " 'CapCut' 'DaVinci Resolve' 'SoundSource' 'Siri' 'MarsEdit' 'Setapp'\n",
      " 'Permute' 'Resize Images' 'ScreenFlow' 'SetappAgent' 'Cardhop'\n",
      " 'iA Presenter' 'TickTick' 'Todoist' 'Bear' 'GoodTask' 'InstaRemind'\n",
      " 'MoneyWiz 3' 'SnagitHelper2023' 'Snagit 2023' 'Airmail' 'Amphetamine'\n",
      " 'Twitter' 'Timing Tracker' 'World Clock Pro' 'Snip My'\n",
      " 'PDFs Split & Merge']\n"
     ]
    }
   ],
   "source": [
    "app_list = df[df['url'] == \"\"]['name'].unique()\n",
    "print(app_list)"
   ]
  },
  {
   "cell_type": "code",
   "execution_count": null,
   "metadata": {},
   "outputs": [],
   "source": [
    "def parse_search_results(selector: Selector):\n",
    "    \"\"\"parse the first search result from google search page\"\"\"\n",
    "    results = []\n",
    "    box = selector.xpath(\"//h1[contains(text(),'Search Results')]/following-sibling::div[1]/div[1]\")  # Only select the first result\n",
    "    if box:\n",
    "        title = box.xpath(\".//h3/text()\").get()\n",
    "        url = box.xpath(\".//h3/../@href\").get()\n",
    "        text = \"\".join(box.xpath(\".//div[@data-content-feature=1]//text()\").getall())\n",
    "        if title and url:\n",
    "            url = url.split(\"://\")[1].replace(\"www.\", \"\")\n",
    "            results.append((title, url, text))\n",
    "    return results\n",
    "\n",
    "\n",
    "\n",
    "def scrape_search(query: str, page=1):\n",
    "    \"\"\"scrape search results for a given keyword\"\"\"\n",
    "    # retrieve the SERP\n",
    "    url = f\"https://www.google.com/search?hl=en&q={quote(query)}\" + (f\"&start={10*(page-1)}\" if page > 1 else \"\")\n",
    "    print(f\"scraping {query=} {page=}\")\n",
    "    results = defaultdict(list)\n",
    "    driver.get(url)\n",
    "    \n",
    "    # sleep for a random period between requests\n",
    "    time.sleep(np.random.randint(3, 10))  # sleep for a random time between 3 to 10 seconds\n",
    "    \n",
    "    # parse SERP for search result data\n",
    "    selector = Selector(driver.page_source)\n",
    "    results[\"search\"].extend(parse_search_results(selector))\n",
    "    return dict(results)\n",
    "\n"
   ]
  },
  {
   "cell_type": "code",
   "execution_count": null,
   "metadata": {},
   "outputs": [
    {
     "name": "stderr",
     "output_type": "stream",
     "text": [
      "/var/folders/ch/zpt836l11k92sr8tpxw3jwsw0000gn/T/ipykernel_93021/3696281332.py:3: DeprecationWarning: headless property is deprecated, instead use add_argument('-headless')\n",
      "  options.headless = True\n"
     ]
    },
    {
     "name": "stdout",
     "output_type": "stream",
     "text": [
      "scraping query='Finder mac app' page=1\n",
      "('Get to know the Finder on your Mac', 'support.apple.com/en-us/HT201732', '')\n",
      "scraping query='Preview mac app' page=1\n"
     ]
    },
    {
     "ename": "KeyboardInterrupt",
     "evalue": "",
     "output_type": "error",
     "traceback": [
      "\u001b[0;31m---------------------------------------------------------------------------\u001b[0m\n",
      "\u001b[0;31mKeyboardInterrupt\u001b[0m                         Traceback (most recent call last)\n",
      "Cell \u001b[0;32mIn[81], line 7\u001b[0m\n",
      "\u001b[1;32m      4\u001b[0m driver \u001b[39m=\u001b[39m webdriver\u001b[39m.\u001b[39mFirefox(options\u001b[39m=\u001b[39moptions)\n",
      "\u001b[1;32m      6\u001b[0m \u001b[39mfor\u001b[39;00m app \u001b[39min\u001b[39;00m app_list[:\u001b[39m10\u001b[39m]:  \u001b[39m# only the first 10 apps\u001b[39;00m\n",
      "\u001b[0;32m----> 7\u001b[0m     results \u001b[39m=\u001b[39m scrape_search(\u001b[39mf\u001b[39;49m\u001b[39m\"\u001b[39;49m\u001b[39m{\u001b[39;49;00mapp\u001b[39m}\u001b[39;49;00m\u001b[39m mac app\u001b[39;49m\u001b[39m\"\u001b[39;49m, page\u001b[39m=\u001b[39;49m\u001b[39m1\u001b[39;49m)\n",
      "\u001b[1;32m      8\u001b[0m     \u001b[39mfor\u001b[39;00m result \u001b[39min\u001b[39;00m results[\u001b[39m\"\u001b[39m\u001b[39msearch\u001b[39m\u001b[39m\"\u001b[39m]:\n",
      "\u001b[1;32m      9\u001b[0m         \u001b[39mprint\u001b[39m(result)\n",
      "\n",
      "Cell \u001b[0;32mIn[80], line 25\u001b[0m, in \u001b[0;36mscrape_search\u001b[0;34m(query, page)\u001b[0m\n",
      "\u001b[1;32m     22\u001b[0m driver\u001b[39m.\u001b[39mget(url)\n",
      "\u001b[1;32m     24\u001b[0m \u001b[39m# sleep for a random period between requests\u001b[39;00m\n",
      "\u001b[0;32m---> 25\u001b[0m time\u001b[39m.\u001b[39;49msleep(np\u001b[39m.\u001b[39;49mrandom\u001b[39m.\u001b[39;49mrandint(\u001b[39m3\u001b[39;49m, \u001b[39m10\u001b[39;49m))  \u001b[39m# sleep for a random time between 3 to 10 seconds\u001b[39;00m\n",
      "\u001b[1;32m     27\u001b[0m \u001b[39m# parse SERP for search result data\u001b[39;00m\n",
      "\u001b[1;32m     28\u001b[0m selector \u001b[39m=\u001b[39m Selector(driver\u001b[39m.\u001b[39mpage_source)\n",
      "\n",
      "\u001b[0;31mKeyboardInterrupt\u001b[0m: "
     ]
    }
   ],
   "source": [
    "# Set up Firefox in headless mode\n",
    "options = Options()\n",
    "options.headless = True\n",
    "driver = webdriver.Firefox(options=options)\n",
    "\n",
    "for app in app_list[:10]:  # only the first 10 apps\n",
    "    results = scrape_search(f\"{app} mac app\", page=1)\n",
    "    for result in results[\"search\"]:\n",
    "        print(result)\n",
    "\n",
    "driver.quit()"
   ]
  },
  {
   "cell_type": "code",
   "execution_count": null,
   "metadata": {},
   "outputs": [
    {
     "name": "stdout",
     "output_type": "stream",
     "text": [
      "('Adobe Acrobat Reader: Edit PDF 4+ - App Store', 'apps.apple.com/us/app/adobe-acrobat-reader-edit-pdf/id469337564', '')\n"
     ]
    }
   ],
   "source": [
    "first = results['search'][0]\n",
    "print(first)"
   ]
  }
 ],
 "metadata": {
  "kernelspec": {
   "display_name": ".venv",
   "language": "python",
   "name": "python3"
  },
  "language_info": {
   "name": "python",
   "version": "3.10.5"
  },
  "orig_nbformat": 4
 },
 "nbformat": 4,
 "nbformat_minor": 2
}
